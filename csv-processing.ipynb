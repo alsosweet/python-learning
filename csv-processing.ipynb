{
 "cells": [
  {
   "cell_type": "code",
   "execution_count": 4,
   "metadata": {
    "collapsed": false
   },
   "outputs": [
    {
     "ename": "SyntaxError",
     "evalue": "invalid syntax (<ipython-input-4-67ec09fd87aa>, line 1)",
     "output_type": "error",
     "traceback": [
      "\u001b[0;36m  File \u001b[0;32m\"<ipython-input-4-67ec09fd87aa>\"\u001b[0;36m, line \u001b[0;32m1\u001b[0m\n\u001b[0;31m    raw data frame:\u001b[0m\n\u001b[0m           ^\u001b[0m\n\u001b[0;31mSyntaxError\u001b[0m\u001b[0;31m:\u001b[0m invalid syntax\n"
     ]
    }
   ],
   "source": [
    "raw data frame:\n",
    "\n",
    "    home_team   away_team\n",
    "0   a   b\n",
    "1   d   c\n",
    "2   c   d\n",
    "3   b   a\n",
    "i want to convert it to :\n",
    "\n",
    "    bit0    bit1    bit2    bit3\n",
    "0   0   0   0   1\n",
    "1   1   1   1   0\n",
    "2   1   0   1   1\n",
    "3   0   1   0   0\n",
    "\n",
    "\"\"\"\n",
    "a:00\n",
    "b:01\n",
    "c:10\n",
    "d:11\n",
    "\"\"\"\n",
    "a,b,c,d are team names,such as 'Real Madrid','La Coruna','Zaragoza','Tenerife' .\n",
    "and i want one bit in a single columns."
   ]
  },
  {
   "cell_type": "code",
   "execution_count": 5,
   "metadata": {
    "collapsed": false
   },
   "outputs": [
    {
     "data": {
      "text/html": [
       "<div>\n",
       "<table border=\"1\" class=\"dataframe\">\n",
       "  <thead>\n",
       "    <tr style=\"text-align: right;\">\n",
       "      <th></th>\n",
       "      <th>home_team</th>\n",
       "      <th>away_team</th>\n",
       "      <th>bit0</th>\n",
       "      <th>bit1</th>\n",
       "      <th>bit2</th>\n",
       "      <th>bit3</th>\n",
       "      <th>bit4</th>\n",
       "      <th>bit5</th>\n",
       "      <th>bit6</th>\n",
       "      <th>bit7</th>\n",
       "      <th>bit8</th>\n",
       "      <th>bit9</th>\n",
       "    </tr>\n",
       "  </thead>\n",
       "  <tbody>\n",
       "    <tr>\n",
       "      <th>0</th>\n",
       "      <td>a</td>\n",
       "      <td>b</td>\n",
       "      <td>0</td>\n",
       "      <td>0</td>\n",
       "      <td>0</td>\n",
       "      <td>0</td>\n",
       "      <td>0</td>\n",
       "      <td>0</td>\n",
       "      <td>0</td>\n",
       "      <td>0</td>\n",
       "      <td>0</td>\n",
       "      <td>1</td>\n",
       "    </tr>\n",
       "    <tr>\n",
       "      <th>1</th>\n",
       "      <td>d</td>\n",
       "      <td>c</td>\n",
       "      <td>0</td>\n",
       "      <td>0</td>\n",
       "      <td>0</td>\n",
       "      <td>1</td>\n",
       "      <td>1</td>\n",
       "      <td>0</td>\n",
       "      <td>0</td>\n",
       "      <td>0</td>\n",
       "      <td>1</td>\n",
       "      <td>0</td>\n",
       "    </tr>\n",
       "    <tr>\n",
       "      <th>2</th>\n",
       "      <td>c</td>\n",
       "      <td>d</td>\n",
       "      <td>0</td>\n",
       "      <td>0</td>\n",
       "      <td>0</td>\n",
       "      <td>1</td>\n",
       "      <td>0</td>\n",
       "      <td>0</td>\n",
       "      <td>0</td>\n",
       "      <td>0</td>\n",
       "      <td>1</td>\n",
       "      <td>1</td>\n",
       "    </tr>\n",
       "    <tr>\n",
       "      <th>3</th>\n",
       "      <td>b</td>\n",
       "      <td>a</td>\n",
       "      <td>0</td>\n",
       "      <td>0</td>\n",
       "      <td>0</td>\n",
       "      <td>0</td>\n",
       "      <td>1</td>\n",
       "      <td>0</td>\n",
       "      <td>0</td>\n",
       "      <td>0</td>\n",
       "      <td>0</td>\n",
       "      <td>0</td>\n",
       "    </tr>\n",
       "  </tbody>\n",
       "</table>\n",
       "</div>"
      ],
      "text/plain": [
       "  home_team away_team bit0 bit1 bit2 bit3 bit4 bit5 bit6 bit7 bit8 bit9\n",
       "0         a         b    0    0    0    0    0    0    0    0    0    1\n",
       "1         d         c    0    0    0    1    1    0    0    0    1    0\n",
       "2         c         d    0    0    0    1    0    0    0    0    1    1\n",
       "3         b         a    0    0    0    0    1    0    0    0    0    0"
      ]
     },
     "execution_count": 5,
     "metadata": {},
     "output_type": "execute_result"
    }
   ],
   "source": [
    "import pandas as pd\n",
    "import string\n",
    "df = pd.DataFrame(columns=['home_team', 'away_team'])\n",
    "df = df.append(pd.Series(['a', 'b'], index=['home_team', 'away_team']), ignore_index=True)\n",
    "df = df.append(pd.Series(['d', 'c'], index=['home_team', 'away_team']), ignore_index=True)\n",
    "df = df.append(pd.Series(['c', 'd'], index=['home_team', 'away_team']), ignore_index=True)\n",
    "df = df.append(pd.Series(['b', 'a'], index=['home_team', 'away_team']), ignore_index=True)\n",
    "\n",
    "\"\"\"\n",
    "alpha = string.ascii_lowercase\n",
    "\n",
    "dic_alpha = {ltr: alpha.index(ltr) for ltr in alpha }\n",
    "\n",
    "to_bin = lambda i: '{0:05b}'.format(i)\n",
    "dic_alpha_bin = {key : to_bin(val) for key,val in dic_alpha.items()}\n",
    "\n",
    "df['bit0'] = df['home_team'].apply(lambda x: dic_alpha_bin[x])\n",
    "df['bit1'] = df['away_team'].apply(lambda x: dic_alpha_bin[x])\n",
    "\"\"\"\n",
    "alpha = string.ascii_lowercase\n",
    "\n",
    "dic_alpha = {ltr: alpha.index(ltr) for ltr in alpha }\n",
    "\n",
    "to_bin = lambda i: '{0:05b}'.format(i)\n",
    "dic_alpha_bin = {key : list(to_bin(val)) for key,val in dic_alpha.items()}\n",
    "\n",
    "lst_c1 = ['bit0','bit1','bit2','bit3','bit4']\n",
    "lst_c2 = ['bit5','bit6','bit7','bit8','bit9']\n",
    "\n",
    "df[lst_c1] = df['home_team'].apply(lambda x: pd.Series(dic_alpha_bin[x]))\n",
    "df[lst_c2] = df['away_team'].apply(lambda x: pd.Series(dic_alpha_bin[x]))\n",
    "df"
   ]
  }
 ],
 "metadata": {
  "kernelspec": {
   "display_name": "Python 3",
   "language": "python",
   "name": "python3"
  },
  "language_info": {
   "codemirror_mode": {
    "name": "ipython",
    "version": 3
   },
   "file_extension": ".py",
   "mimetype": "text/x-python",
   "name": "python",
   "nbconvert_exporter": "python",
   "pygments_lexer": "ipython3",
   "version": "3.4.3"
  }
 },
 "nbformat": 4,
 "nbformat_minor": 0
}
