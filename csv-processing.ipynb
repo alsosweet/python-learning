{
 "cells": [
  {
   "cell_type": "code",
   "execution_count": 4,
   "metadata": {
    "collapsed": false
   },
   "outputs": [
    {
     "ename": "SyntaxError",
     "evalue": "invalid syntax (<ipython-input-4-67ec09fd87aa>, line 1)",
     "output_type": "error",
     "traceback": [
      "\u001b[0;36m  File \u001b[0;32m\"<ipython-input-4-67ec09fd87aa>\"\u001b[0;36m, line \u001b[0;32m1\u001b[0m\n\u001b[0;31m    raw data frame:\u001b[0m\n\u001b[0m           ^\u001b[0m\n\u001b[0;31mSyntaxError\u001b[0m\u001b[0;31m:\u001b[0m invalid syntax\n"
     ]
    }
   ],
   "source": [
    "raw data frame:\n",
    "\n",
    "    home_team   away_team\n",
    "0   a   b\n",
    "1   d   c\n",
    "2   c   d\n",
    "3   b   a\n",
    "i want to convert it to :\n",
    "\n",
    "    bit0    bit1    bit2    bit3\n",
    "0   0   0   0   1\n",
    "1   1   1   1   0\n",
    "2   1   0   1   1\n",
    "3   0   1   0   0\n",
    "\n",
    "\"\"\"\n",
    "a:00\n",
    "b:01\n",
    "c:10\n",
    "d:11\n",
    "\"\"\"\n",
    "a,b,c,d are team names,such as 'Real Madrid','La Coruna','Zaragoza','Tenerife' .\n",
    "and i want one bit in a single columns."
   ]
  },
  {
   "cell_type": "code",
   "execution_count": 68,
   "metadata": {
    "collapsed": false
   },
   "outputs": [
    {
     "data": {
      "text/html": [
       "<div>\n",
       "<table border=\"1\" class=\"dataframe\">\n",
       "  <thead>\n",
       "    <tr style=\"text-align: right;\">\n",
       "      <th></th>\n",
       "      <th>home_team</th>\n",
       "      <th>away_team</th>\n",
       "      <th>bit0</th>\n",
       "      <th>bit1</th>\n",
       "      <th>bit2</th>\n",
       "      <th>bit3</th>\n",
       "      <th>bit4</th>\n",
       "      <th>bit5</th>\n",
       "      <th>bit6</th>\n",
       "      <th>bit7</th>\n",
       "      <th>bit8</th>\n",
       "      <th>bit9</th>\n",
       "    </tr>\n",
       "  </thead>\n",
       "  <tbody>\n",
       "    <tr>\n",
       "      <th>0</th>\n",
       "      <td>a</td>\n",
       "      <td>b</td>\n",
       "      <td>0</td>\n",
       "      <td>0</td>\n",
       "      <td>0</td>\n",
       "      <td>0</td>\n",
       "      <td>0</td>\n",
       "      <td>0</td>\n",
       "      <td>0</td>\n",
       "      <td>0</td>\n",
       "      <td>0</td>\n",
       "      <td>1</td>\n",
       "    </tr>\n",
       "    <tr>\n",
       "      <th>1</th>\n",
       "      <td>d</td>\n",
       "      <td>c</td>\n",
       "      <td>0</td>\n",
       "      <td>0</td>\n",
       "      <td>0</td>\n",
       "      <td>1</td>\n",
       "      <td>1</td>\n",
       "      <td>0</td>\n",
       "      <td>0</td>\n",
       "      <td>0</td>\n",
       "      <td>1</td>\n",
       "      <td>0</td>\n",
       "    </tr>\n",
       "    <tr>\n",
       "      <th>2</th>\n",
       "      <td>c</td>\n",
       "      <td>d</td>\n",
       "      <td>0</td>\n",
       "      <td>0</td>\n",
       "      <td>0</td>\n",
       "      <td>1</td>\n",
       "      <td>0</td>\n",
       "      <td>0</td>\n",
       "      <td>0</td>\n",
       "      <td>0</td>\n",
       "      <td>1</td>\n",
       "      <td>1</td>\n",
       "    </tr>\n",
       "    <tr>\n",
       "      <th>3</th>\n",
       "      <td>b</td>\n",
       "      <td>a</td>\n",
       "      <td>0</td>\n",
       "      <td>0</td>\n",
       "      <td>0</td>\n",
       "      <td>0</td>\n",
       "      <td>1</td>\n",
       "      <td>0</td>\n",
       "      <td>0</td>\n",
       "      <td>0</td>\n",
       "      <td>0</td>\n",
       "      <td>0</td>\n",
       "    </tr>\n",
       "  </tbody>\n",
       "</table>\n",
       "</div>"
      ],
      "text/plain": [
       "  home_team away_team bit0 bit1 bit2 bit3 bit4 bit5 bit6 bit7 bit8 bit9\n",
       "0         a         b    0    0    0    0    0    0    0    0    0    1\n",
       "1         d         c    0    0    0    1    1    0    0    0    1    0\n",
       "2         c         d    0    0    0    1    0    0    0    0    1    1\n",
       "3         b         a    0    0    0    0    1    0    0    0    0    0"
      ]
     },
     "execution_count": 68,
     "metadata": {},
     "output_type": "execute_result"
    }
   ],
   "source": [
    "import pandas as pd\n",
    "import string\n",
    "df = pd.DataFrame(columns=['home_team', 'away_team'])\n",
    "df = df.append(pd.Series(['a', 'b'], index=['home_team', 'away_team']), ignore_index=True)\n",
    "df = df.append(pd.Series(['d', 'c'], index=['home_team', 'away_team']), ignore_index=True)\n",
    "df = df.append(pd.Series(['c', 'd'], index=['home_team', 'away_team']), ignore_index=True)\n",
    "df = df.append(pd.Series(['b', 'a'], index=['home_team', 'away_team']), ignore_index=True)\n",
    "\n",
    "\"\"\"\n",
    "alpha = string.ascii_lowercase\n",
    "\n",
    "dic_alpha = {ltr: alpha.index(ltr) for ltr in alpha }\n",
    "\n",
    "to_bin = lambda i: '{0:05b}'.format(i)\n",
    "dic_alpha_bin = {key : to_bin(val) for key,val in dic_alpha.items()}\n",
    "\n",
    "df['bit0'] = df['home_team'].apply(lambda x: dic_alpha_bin[x])\n",
    "df['bit1'] = df['away_team'].apply(lambda x: dic_alpha_bin[x])\n",
    "\"\"\"\n",
    "alpha = string.ascii_lowercase\n",
    "\n",
    "dic_alpha = {ltr: alpha.index(ltr) for ltr in alpha }\n",
    "\n",
    "to_bin = lambda i: '{0:05b}'.format(i)\n",
    "dic_alpha_bin = {key : list(to_bin(val)) for key,val in dic_alpha.items()}\n",
    "\n",
    "lst_c1 = ['bit0','bit1','bit2','bit3','bit4']\n",
    "lst_c2 = ['bit5','bit6','bit7','bit8','bit9']\n",
    "\n",
    "df[lst_c1] = df['home_team'].apply(lambda x: pd.Series(dic_alpha_bin[x]))\n",
    "df[lst_c2] = df['away_team'].apply(lambda x: pd.Series(dic_alpha_bin[x]))\n",
    "df\n"
   ]
  },
  {
   "cell_type": "code",
   "execution_count": 76,
   "metadata": {
    "collapsed": false
   },
   "outputs": [
    {
     "name": "stdout",
     "output_type": "stream",
     "text": [
      "0    a\n",
      "1    d\n",
      "2    c\n",
      "3    b\n",
      "0    b\n",
      "1    c\n",
      "2    d\n",
      "3    a\n",
      "dtype: object\n",
      "0    a\n",
      "1    d\n",
      "2    c\n",
      "3    b\n",
      "dtype: object\n",
      "{'a': 0, 'd': 0, 'b': 0, 'c': 0}\n"
     ]
    }
   ],
   "source": [
    "df_t=df['home_team'].append(df['away_team'])\n",
    "print(df_t)\n",
    "\n",
    "def counter():\n",
    "    n = -1\n",
    "    def count():\n",
    "        nonlocal n\n",
    "        n +=1\n",
    "        return n\n",
    "    return count\n",
    "\n",
    "cnt = counter()\n",
    "df_0 = df_t.drop_duplicates()\n",
    "print(df_0)\n",
    "dic_also0 = {ltr: ltr for ltr in df_t}\n",
    "#dic_also2 = {ltr: cnt() for ltr in dic_also0.keys()}\n",
    "\n",
    "a = -1\n",
    "dic_also2 = {ltr: a+1 for ltr in dic_also0.keys()}\n",
    "print(dic_also2)\n",
    "#dic_also = create_dic(dic_also0)\n",
    "#dic_also"
   ]
  },
  {
   "cell_type": "code",
   "execution_count": 50,
   "metadata": {
    "collapsed": false
   },
   "outputs": [
    {
     "name": "stdout",
     "output_type": "stream",
     "text": [
      "1\n",
      "2\n",
      "3\n"
     ]
    }
   ],
   "source": [
    "def hellocounter ():\n",
    "    count=0 \n",
    "    def counter():\n",
    "        nonlocal count\n",
    "        count+=1\n",
    "        print(count)\n",
    "    return counter\n",
    "\n",
    "hello = hellocounter()\n",
    "hello()\n",
    "hello()\n",
    "hello()  "
   ]
  },
  {
   "cell_type": "code",
   "execution_count": 13,
   "metadata": {
    "collapsed": false
   },
   "outputs": [
    {
     "data": {
      "text/plain": [
       "'00023'"
      ]
     },
     "execution_count": 13,
     "metadata": {},
     "output_type": "execute_result"
    }
   ],
   "source": [
    "to_bin = lambda i: '{0:05b}'.format(i)\n",
    "to_bin2 = lambda i: '{0:06b}'.format(i)\n",
    "list(to_bin2(12))\n",
    "len=4\n",
    "\"{0:0=-5}\".format(23)"
   ]
  },
  {
   "cell_type": "code",
   "execution_count": 14,
   "metadata": {
    "collapsed": false,
    "scrolled": true
   },
   "outputs": [
    {
     "data": {
      "text/plain": [
       "0    0\n",
       "1    0\n",
       "2    1\n",
       "3    1\n",
       "4    0\n",
       "dtype: object"
      ]
     },
     "execution_count": 14,
     "metadata": {},
     "output_type": "execute_result"
    }
   ],
   "source": [
    "pd.Series(list('00110'))"
   ]
  },
  {
   "cell_type": "code",
   "execution_count": 70,
   "metadata": {
    "collapsed": false
   },
   "outputs": [
    {
     "name": "stdout",
     "output_type": "stream",
     "text": [
      "Traceback (most recent call last):\n",
      "  File \"/Users/lwq/anaconda/lib/python3.4/site-packages/IPython/core/interactiveshell.py\", line 3035, in run_code\n",
      "    exec(code_obj, self.user_global_ns, self.user_ns)\n",
      "  File \"<ipython-input-71-7bce1c01de83>\", line 2, in <module>\n",
      "    n.add(1)\n",
      "AttributeError: 'int' object has no attribute 'add'\n",
      "\n",
      "During handling of the above exception, another exception occurred:\n",
      "\n",
      "Traceback (most recent call last):\n",
      "  File \"/Users/lwq/anaconda/lib/python3.4/site-packages/IPython/core/interactiveshell.py\", line 1848, in showtraceback\n",
      "    stb = value._render_traceback_()\n",
      "AttributeError: 'AttributeError' object has no attribute '_render_traceback_'\n",
      "\n",
      "During handling of the above exception, another exception occurred:\n",
      "\n",
      "Traceback (most recent call last):\n",
      "  File \"/Users/lwq/anaconda/lib/python3.4/site-packages/IPython/core/ultratb.py\", line 970, in get_records\n",
      "    return _fixed_getinnerframes(etb, number_of_lines_of_context, tb_offset)\n",
      "  File \"/Users/lwq/anaconda/lib/python3.4/site-packages/IPython/core/ultratb.py\", line 233, in wrapped\n",
      "    return f(*args, **kwargs)\n",
      "  File \"/Users/lwq/anaconda/lib/python3.4/site-packages/IPython/core/ultratb.py\", line 267, in _fixed_getinnerframes\n",
      "    records = fix_frame_records_filenames(inspect.getinnerframes(etb, context))\n",
      "  File \"/Users/lwq/anaconda/lib/python3.4/inspect.py\", line 1338, in getinnerframes\n",
      "    framelist.append((tb.tb_frame,) + getframeinfo(tb, context))\n",
      "  File \"/Users/lwq/anaconda/lib/python3.4/inspect.py\", line 1298, in getframeinfo\n",
      "    filename = getsourcefile(frame) or getfile(frame)\n",
      "  File \"/Users/lwq/anaconda/lib/python3.4/inspect.py\", line 583, in getsourcefile\n",
      "    if getattr(getmodule(object, filename), '__loader__', None) is not None:\n",
      "  File \"/Users/lwq/anaconda/lib/python3.4/inspect.py\", line 612, in getmodule\n",
      "    file = getabsfile(object, _filename)\n",
      "  File \"/Users/lwq/anaconda/lib/python3.4/inspect.py\", line 596, in getabsfile\n",
      "    return os.path.normcase(os.path.abspath(_filename))\n",
      "  File \"/Users/lwq/anaconda/lib/python3.4/posixpath.py\", line 361, in abspath\n",
      "    cwd = os.getcwd()\n",
      "FileNotFoundError: [Errno 2] No such file or directory\n",
      "Traceback (most recent call last):\n",
      "  File \"/Users/lwq/anaconda/lib/python3.4/site-packages/IPython/core/interactiveshell.py\", line 3035, in run_code\n",
      "    exec(code_obj, self.user_global_ns, self.user_ns)\n",
      "  File \"<ipython-input-71-7bce1c01de83>\", line 2, in <module>\n",
      "    n.add(1)\n",
      "AttributeError: 'int' object has no attribute 'add'\n",
      "\n",
      "During handling of the above exception, another exception occurred:\n",
      "\n",
      "Traceback (most recent call last):\n",
      "  File \"/Users/lwq/anaconda/lib/python3.4/site-packages/IPython/core/interactiveshell.py\", line 1848, in showtraceback\n",
      "    stb = value._render_traceback_()\n",
      "AttributeError: 'AttributeError' object has no attribute '_render_traceback_'\n",
      "\n",
      "During handling of the above exception, another exception occurred:\n",
      "\n",
      "Traceback (most recent call last):\n",
      "  File \"/Users/lwq/anaconda/lib/python3.4/site-packages/IPython/core/interactiveshell.py\", line 2981, in run_ast_nodes\n",
      "    if self.run_code(code, result):\n",
      "  File \"/Users/lwq/anaconda/lib/python3.4/site-packages/IPython/core/interactiveshell.py\", line 3052, in run_code\n",
      "    self.showtraceback()\n",
      "  File \"/Users/lwq/anaconda/lib/python3.4/site-packages/IPython/core/interactiveshell.py\", line 1851, in showtraceback\n",
      "    value, tb, tb_offset=tb_offset)\n",
      "  File \"/Users/lwq/anaconda/lib/python3.4/site-packages/IPython/core/ultratb.py\", line 1240, in structured_traceback\n",
      "    self, etype, value, tb, tb_offset, number_of_lines_of_context)\n",
      "  File \"/Users/lwq/anaconda/lib/python3.4/site-packages/IPython/core/ultratb.py\", line 1148, in structured_traceback\n",
      "    self, etype, value, tb, tb_offset, number_of_lines_of_context\n",
      "  File \"/Users/lwq/anaconda/lib/python3.4/site-packages/IPython/core/ultratb.py\", line 1000, in structured_traceback\n",
      "    tb_offset)\n",
      "  File \"/Users/lwq/anaconda/lib/python3.4/site-packages/IPython/core/ultratb.py\", line 951, in format_exception_as_a_whole\n",
      "    frames = self.format_records(records)\n",
      "  File \"/Users/lwq/anaconda/lib/python3.4/site-packages/IPython/core/ultratb.py\", line 724, in format_records\n",
      "    for frame, file, lnum, func, lines, index in records:\n",
      "TypeError: 'NoneType' object is not iterable\n",
      "\n",
      "During handling of the above exception, another exception occurred:\n",
      "\n",
      "Traceback (most recent call last):\n",
      "  File \"/Users/lwq/anaconda/lib/python3.4/site-packages/IPython/core/interactiveshell.py\", line 1848, in showtraceback\n",
      "    stb = value._render_traceback_()\n",
      "AttributeError: 'TypeError' object has no attribute '_render_traceback_'\n",
      "\n",
      "During handling of the above exception, another exception occurred:\n",
      "\n",
      "Traceback (most recent call last):\n",
      "  File \"/Users/lwq/anaconda/lib/python3.4/site-packages/IPython/core/ultratb.py\", line 970, in get_records\n",
      "    return _fixed_getinnerframes(etb, number_of_lines_of_context, tb_offset)\n",
      "  File \"/Users/lwq/anaconda/lib/python3.4/site-packages/IPython/core/ultratb.py\", line 233, in wrapped\n",
      "    return f(*args, **kwargs)\n",
      "  File \"/Users/lwq/anaconda/lib/python3.4/site-packages/IPython/core/ultratb.py\", line 267, in _fixed_getinnerframes\n",
      "    records = fix_frame_records_filenames(inspect.getinnerframes(etb, context))\n",
      "  File \"/Users/lwq/anaconda/lib/python3.4/inspect.py\", line 1338, in getinnerframes\n",
      "    framelist.append((tb.tb_frame,) + getframeinfo(tb, context))\n",
      "  File \"/Users/lwq/anaconda/lib/python3.4/inspect.py\", line 1298, in getframeinfo\n",
      "    filename = getsourcefile(frame) or getfile(frame)\n",
      "  File \"/Users/lwq/anaconda/lib/python3.4/inspect.py\", line 583, in getsourcefile\n",
      "    if getattr(getmodule(object, filename), '__loader__', None) is not None:\n",
      "  File \"/Users/lwq/anaconda/lib/python3.4/inspect.py\", line 612, in getmodule\n",
      "    file = getabsfile(object, _filename)\n",
      "  File \"/Users/lwq/anaconda/lib/python3.4/inspect.py\", line 596, in getabsfile\n",
      "    return os.path.normcase(os.path.abspath(_filename))\n",
      "  File \"/Users/lwq/anaconda/lib/python3.4/posixpath.py\", line 361, in abspath\n",
      "    cwd = os.getcwd()\n",
      "FileNotFoundError: [Errno 2] No such file or directory\n",
      "ERROR! Session/line number was not unique in database. History logging moved to new session 20\n"
     ]
    },
    {
     "name": "stderr",
     "output_type": "stream",
     "text": [
      "ERROR: Internal Python error in the inspect module.\n",
      "Below is the traceback from this internal error.\n",
      "\n",
      "\n",
      "Unfortunately, your original traceback can not be constructed.\n",
      "\n",
      "ERROR: Internal Python error in the inspect module.\n",
      "Below is the traceback from this internal error.\n",
      "\n",
      "\n",
      "Unfortunately, your original traceback can not be constructed.\n",
      "\n"
     ]
    },
    {
     "ename": "TypeError",
     "evalue": "'NoneType' object is not iterable",
     "output_type": "error",
     "traceback": [
      "Traceback (most recent call last):\n",
      "  File \"/Users/lwq/anaconda/lib/python3.4/site-packages/IPython/core/interactiveshell.py\", line 3035, in run_code\n    exec(code_obj, self.user_global_ns, self.user_ns)\n",
      "  File \"<ipython-input-71-7bce1c01de83>\", line 2, in <module>\n    n.add(1)\n",
      "AttributeError: 'int' object has no attribute 'add'\n",
      "\nDuring handling of the above exception, another exception occurred:\n\n",
      "Traceback (most recent call last):\n",
      "  File \"/Users/lwq/anaconda/lib/python3.4/site-packages/IPython/core/interactiveshell.py\", line 1848, in showtraceback\n    stb = value._render_traceback_()\n",
      "AttributeError: 'AttributeError' object has no attribute '_render_traceback_'\n",
      "\nDuring handling of the above exception, another exception occurred:\n\n",
      "Traceback (most recent call last):\n",
      "  File \"/Users/lwq/anaconda/lib/python3.4/site-packages/IPython/core/interactiveshell.py\", line 2981, in run_ast_nodes\n    if self.run_code(code, result):\n",
      "  File \"/Users/lwq/anaconda/lib/python3.4/site-packages/IPython/core/interactiveshell.py\", line 3052, in run_code\n    self.showtraceback()\n",
      "  File \"/Users/lwq/anaconda/lib/python3.4/site-packages/IPython/core/interactiveshell.py\", line 1851, in showtraceback\n    value, tb, tb_offset=tb_offset)\n",
      "  File \"/Users/lwq/anaconda/lib/python3.4/site-packages/IPython/core/ultratb.py\", line 1240, in structured_traceback\n    self, etype, value, tb, tb_offset, number_of_lines_of_context)\n",
      "  File \"/Users/lwq/anaconda/lib/python3.4/site-packages/IPython/core/ultratb.py\", line 1148, in structured_traceback\n    self, etype, value, tb, tb_offset, number_of_lines_of_context\n",
      "  File \"/Users/lwq/anaconda/lib/python3.4/site-packages/IPython/core/ultratb.py\", line 1000, in structured_traceback\n    tb_offset)\n",
      "  File \"/Users/lwq/anaconda/lib/python3.4/site-packages/IPython/core/ultratb.py\", line 951, in format_exception_as_a_whole\n    frames = self.format_records(records)\n",
      "  File \"/Users/lwq/anaconda/lib/python3.4/site-packages/IPython/core/ultratb.py\", line 724, in format_records\n    for frame, file, lnum, func, lines, index in records:\n",
      "TypeError: 'NoneType' object is not iterable\n",
      "\nDuring handling of the above exception, another exception occurred:\n\n",
      "Traceback (most recent call last):\n",
      "  File \"/Users/lwq/anaconda/lib/python3.4/site-packages/IPython/core/interactiveshell.py\", line 1848, in showtraceback\n    stb = value._render_traceback_()\n",
      "AttributeError: 'TypeError' object has no attribute '_render_traceback_'\n",
      "\nDuring handling of the above exception, another exception occurred:\n\n",
      "Traceback (most recent call last):\n",
      "  File \"/Users/lwq/anaconda/lib/python3.4/site-packages/IPython/kernel/zmq/ipkernel.py\", line 181, in do_execute\n    shell.run_cell(code, store_history=store_history, silent=silent)\n",
      "  File \"/Users/lwq/anaconda/lib/python3.4/site-packages/IPython/core/interactiveshell.py\", line 2871, in run_cell\n    interactivity=interactivity, compiler=compiler, result=result)\n",
      "  File \"/Users/lwq/anaconda/lib/python3.4/site-packages/IPython/core/interactiveshell.py\", line 3000, in run_ast_nodes\n    self.showtraceback()\n",
      "  File \"/Users/lwq/anaconda/lib/python3.4/site-packages/IPython/core/interactiveshell.py\", line 1851, in showtraceback\n    value, tb, tb_offset=tb_offset)\n",
      "  File \"/Users/lwq/anaconda/lib/python3.4/site-packages/IPython/core/ultratb.py\", line 1240, in structured_traceback\n    self, etype, value, tb, tb_offset, number_of_lines_of_context)\n",
      "  File \"/Users/lwq/anaconda/lib/python3.4/site-packages/IPython/core/ultratb.py\", line 1148, in structured_traceback\n    self, etype, value, tb, tb_offset, number_of_lines_of_context\n",
      "  File \"/Users/lwq/anaconda/lib/python3.4/site-packages/IPython/core/ultratb.py\", line 1018, in structured_traceback\n    chained_exceptions_tb_offset)\n",
      "  File \"/Users/lwq/anaconda/lib/python3.4/site-packages/IPython/core/ultratb.py\", line 951, in format_exception_as_a_whole\n    frames = self.format_records(records)\n",
      "  File \"/Users/lwq/anaconda/lib/python3.4/site-packages/IPython/core/ultratb.py\", line 724, in format_records\n    for frame, file, lnum, func, lines, index in records:\n",
      "TypeError: 'NoneType' object is not iterable\n"
     ]
    }
   ],
   "source": [
    "n = 1\n",
    "n.add(1)"
   ]
  }
 ],
 "metadata": {
  "kernelspec": {
   "display_name": "Python 3",
   "language": "python",
   "name": "python3"
  },
  "language_info": {
   "codemirror_mode": {
    "name": "ipython",
    "version": 3
   },
   "file_extension": ".py",
   "mimetype": "text/x-python",
   "name": "python",
   "nbconvert_exporter": "python",
   "pygments_lexer": "ipython3",
   "version": "3.4.3"
  }
 },
 "nbformat": 4,
 "nbformat_minor": 0
}
